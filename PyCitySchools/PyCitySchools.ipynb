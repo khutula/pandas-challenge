{
 "cells": [
  {
   "cell_type": "markdown",
   "metadata": {},
   "source": [
    "# PyCitySchools"
   ]
  },
  {
   "cell_type": "code",
   "execution_count": 1,
   "metadata": {},
   "outputs": [],
   "source": [
    "# Dependencies and Setup\n",
    "import pandas as pd\n",
    "\n",
    "# File to Load (Remember to Change These)\n",
    "school_data_to_load = \"Resources/schools_complete.csv\"\n",
    "student_data_to_load = \"Resources/students_complete.csv\"\n",
    "\n",
    "# Read School and Student Data File and store into Pandas DataFrames\n",
    "school_data = pd.read_csv(school_data_to_load)\n",
    "student_data = pd.read_csv(student_data_to_load)\n",
    "\n",
    "# Combine the data into a single dataset.  \n",
    "school_data_complete = pd.merge(student_data, school_data, how=\"left\", on=[\"school_name\", \"school_name\"])"
   ]
  },
  {
   "cell_type": "markdown",
   "metadata": {},
   "source": [
    "### District Summary"
   ]
  },
  {
   "cell_type": "code",
   "execution_count": null,
   "metadata": {},
   "outputs": [],
   "source": [
    "total_schools = len(school_data_complete[\"school_name\"].unique())\n",
    "\n",
    "total_students = len(school_data_complete[\"Student ID\"])"
   ]
  },
  {
   "cell_type": "code",
   "execution_count": null,
   "metadata": {},
   "outputs": [],
   "source": [
    "total_budget = \"${:,.0f}\".format(school_data[\"budget\"].sum())"
   ]
  },
  {
   "cell_type": "code",
   "execution_count": null,
   "metadata": {},
   "outputs": [],
   "source": [
    "avg_math = round(school_data_complete[\"math_score\"].mean(), 2)"
   ]
  },
  {
   "cell_type": "code",
   "execution_count": null,
   "metadata": {},
   "outputs": [],
   "source": [
    "avg_reading = round(school_data_complete[\"reading_score\"].mean(), 2)"
   ]
  },
  {
   "cell_type": "code",
   "execution_count": null,
   "metadata": {},
   "outputs": [],
   "source": [
    "student_scores = school_data_complete[[\"math_score\",\"reading_score\"]]\n",
    "\n",
    "math_pass_count = len(student_scores.loc[(student_scores[\"math_score\"] >= 70), :])\n",
    "reading_pass_count = len(student_scores.loc[(student_scores[\"reading_score\"] >= 70), :])\n",
    "both_pass_count = len(student_scores.loc[(student_scores[\"reading_score\"] >= 70) & (student_scores[\"math_score\"] >= 70), :])\n",
    "\n",
    "math_pass = round((math_pass_count / total_students) * 100, 2)\n",
    "reading_pass = round((reading_pass_count / total_students) * 100, 2)\n",
    "both_pass = round((both_pass_count / total_students) * 100, 2)"
   ]
  },
  {
   "cell_type": "code",
   "execution_count": null,
   "metadata": {},
   "outputs": [],
   "source": [
    "district_dict = [{\"Total Schools\": total_schools, \"Total Students\": total_students,\n",
    "               \"Total Budget\": total_budget, \"Average Math Score\": avg_math, \n",
    "               \"Average Reading Score\": avg_reading, \"% Passing Math\": math_pass, \n",
    "               \"% Passing Reading\": reading_pass, \"% Overall Passing\": both_pass}]\n",
    "district_summary_df = pd.DataFrame(district_dict)\n",
    "district_summary_df"
   ]
  },
  {
   "cell_type": "markdown",
   "metadata": {},
   "source": [
    "### School Summary"
   ]
  },
  {
   "cell_type": "code",
   "execution_count": null,
   "metadata": {},
   "outputs": [],
   "source": [
    "school_calc_df = school_data_complete.groupby([\"school_name\"])\n",
    "school_summary_df = school_data.iloc[:,1:5]\n",
    "school_summary_df = school_summary_df.rename(columns={\"type\":\"School Type\",\"size\":\"Total Students\",\"budget\":\"Total School Budget\"})"
   ]
  },
  {
   "cell_type": "code",
   "execution_count": null,
   "metadata": {},
   "outputs": [],
   "source": [
    "school_summary_df[\"Per Student Budget\"] = school_summary_df[\"Total School Budget\"] / school_summary_df[\"Total Students\"]\n",
    "school_summary_df[\"Per Student Budget\"] = school_summary_df[\"Per Student Budget\"].astype(int)\n",
    "school_summary_df = school_summary_df.sort_values(\"school_name\")"
   ]
  },
  {
   "cell_type": "code",
   "execution_count": null,
   "metadata": {},
   "outputs": [],
   "source": [
    "avg_scores = school_calc_df[[\"math_score\",\"reading_score\"]].mean()\n",
    "\n",
    "avg_scores = avg_scores.rename(columns={\"math_score\":\"Average Math Score\",\"reading_score\":\"Average Reading Score\"})\n",
    "\n",
    "school_summary_df = pd.merge(school_summary_df, avg_scores, how=\"left\", on=\"school_name\")"
   ]
  },
  {
   "cell_type": "code",
   "execution_count": null,
   "metadata": {},
   "outputs": [],
   "source": [
    "pass_avgs = school_calc_df[[\"math_score\",\"reading_score\"]].apply(lambda x: ((x>=70).sum()) / x.count() * 100)\n",
    "pass_avgs = pass_avgs.rename(columns={\"math_score\":\"% Passing Math\",\"reading_score\":\"% Passing Reading\"})\n",
    "school_summary_df = pd.merge(school_summary_df, pass_avgs, how=\"left\", on=\"school_name\")"
   ]
  },
  {
   "cell_type": "code",
   "execution_count": null,
   "metadata": {},
   "outputs": [],
   "source": [
    "both_pass_df = school_data_complete.loc[(school_data_complete[\"math_score\"] >= 70) & (school_data_complete[\"reading_score\"] >= 70), [\"school_name\",\"math_score\",\"reading_score\"]]\n",
    "both_pass_df = both_pass_df.groupby([\"school_name\"])\n",
    "both_pass_count = pd.DataFrame(both_pass_df[\"math_score\"].count())\n",
    "\n",
    "both_pass_count = both_pass_count.rename(columns={\"math_score\":\"# Overall Passing\"})\n",
    "school_summary_df = pd.merge(school_summary_df, both_pass_count, how=\"left\", on=\"school_name\")"
   ]
  },
  {
   "cell_type": "code",
   "execution_count": null,
   "metadata": {},
   "outputs": [],
   "source": [
    "school_summary_df[\"% Overall Passing\"] = school_summary_df[\"# Overall Passing\"] / school_summary_df[\"Total Students\"] * 100"
   ]
  },
  {
   "cell_type": "code",
   "execution_count": null,
   "metadata": {},
   "outputs": [],
   "source": [
    "school_summary_df[\"Total School Budget\"] = school_summary_df[\"Total School Budget\"].map(\"${:,.0f}\".format)\n",
    "school_summary_df[\"Per Student Budget\"] = school_summary_df[\"Per Student Budget\"].map(\"${:,.2f}\".format)\n",
    "school_summary_df[\"Average Math Score\"] = school_summary_df[\"Average Math Score\"].map(\"{:.2f}\".format)\n",
    "school_summary_df[\"Average Reading Score\"] = school_summary_df[\"Average Reading Score\"].map(\"{:.2f}\".format)\n",
    "school_summary_df[\"% Passing Math\"] = school_summary_df[\"% Passing Math\"].map(\"{:.2f}%\".format)\n",
    "school_summary_df[\"% Passing Reading\"] = school_summary_df[\"% Passing Reading\"].map(\"{:.2f}%\".format)\n",
    "school_summary_df[\"% Overall Passing\"] = school_summary_df[\"% Overall Passing\"].map(\"{:.2f}%\".format)"
   ]
  },
  {
   "cell_type": "code",
   "execution_count": null,
   "metadata": {},
   "outputs": [],
   "source": [
    "school_summary_df = school_summary_df.rename(columns={\"school_name\":\"School Name\"})\n",
    "school_summary_df = school_summary_df.drop(\"# Overall Passing\", axis=1)\n",
    "school_summary_df = school_summary_df.set_index(\"School Name\",drop=True)\n",
    "school_summary_df"
   ]
  },
  {
   "cell_type": "markdown",
   "metadata": {},
   "source": [
    "### Top Performing Schools"
   ]
  },
  {
   "cell_type": "code",
   "execution_count": null,
   "metadata": {},
   "outputs": [],
   "source": [
    "top_performing_df = school_summary_df.sort_values(\"% Overall Passing\", ascending = False)\n",
    "top_performing_df.head(5)"
   ]
  },
  {
   "cell_type": "markdown",
   "metadata": {},
   "source": [
    "### Bottom Performing Schools"
   ]
  },
  {
   "cell_type": "code",
   "execution_count": null,
   "metadata": {},
   "outputs": [],
   "source": [
    "bottom_performing_df = school_summary_df.sort_values(\"% Overall Passing\")\n",
    "bottom_performing_df.head(5)"
   ]
  },
  {
   "cell_type": "markdown",
   "metadata": {},
   "source": [
    "### Math Scores by Grade"
   ]
  },
  {
   "cell_type": "code",
   "execution_count": null,
   "metadata": {},
   "outputs": [],
   "source": [
    "math_by_grades_df = school_data_complete.groupby([\"school_name\",\"grade\"])[\"math_score\"].mean().map(\"{:.2f}\".format).unstack().rename_axis(None, axis=1)\n",
    "math_by_grades_df.index.names = [\"School Name\"]\n",
    "math_by_grades_df = math_by_grades_df[[\"9th\",\"10th\",\"11th\",\"12th\"]]\n",
    "math_by_grades_df"
   ]
  },
  {
   "cell_type": "markdown",
   "metadata": {},
   "source": [
    "### Reading Scores by Grade"
   ]
  },
  {
   "cell_type": "code",
   "execution_count": null,
   "metadata": {},
   "outputs": [],
   "source": [
    "reading_by_grades_df = school_data_complete.groupby([\"school_name\",\"grade\"])[\"reading_score\"].mean().map(\"{:.2f}\".format).unstack().rename_axis(None, axis=1)\n",
    "reading_by_grades_df.index.names = [\"School Name\"]\n",
    "reading_by_grades_df = reading_by_grades_df[[\"9th\",\"10th\",\"11th\",\"12th\"]]\n",
    "reading_by_grades_df"
   ]
  },
  {
   "cell_type": "markdown",
   "metadata": {},
   "source": [
    "### Scores by School Spending"
   ]
  },
  {
   "cell_type": "code",
   "execution_count": null,
   "metadata": {},
   "outputs": [],
   "source": []
  },
  {
   "cell_type": "markdown",
   "metadata": {},
   "source": [
    "### Scores by School Size"
   ]
  },
  {
   "cell_type": "code",
   "execution_count": null,
   "metadata": {},
   "outputs": [],
   "source": []
  },
  {
   "cell_type": "markdown",
   "metadata": {},
   "source": [
    "### Scores by School Type"
   ]
  },
  {
   "cell_type": "code",
   "execution_count": 9,
   "metadata": {},
   "outputs": [],
   "source": [
    "def retrieve_group(df,group):\n",
    "    group_df = df.get_group(group)\n",
    "    return group_df\n",
    "\n",
    "def count_of_both_passers(df,group):\n",
    "    count_passers = len(df.loc[(df[\"math_score\"]>=70) & (df[\"reading_score\"]>=70),[\"math_score\",\"reading_score\"]])\n",
    "    total_students = df[\"type\"].count()\n",
    "    total_pass_perc = count_passers / total_students * 100\n",
    "    return total_pass_perc"
   ]
  },
  {
   "cell_type": "code",
   "execution_count": 10,
   "metadata": {},
   "outputs": [],
   "source": [
    "school_type_grouped_df = school_data_complete.groupby([\"type\"])"
   ]
  },
  {
   "cell_type": "code",
   "execution_count": 11,
   "metadata": {},
   "outputs": [],
   "source": [
    "school_type_avgs_df = school_type_grouped_df[[\"math_score\",\"reading_score\"]].mean()\n",
    "school_type_avgs_df = school_type_avgs_df.rename(columns={\"math_score\":\"Average Math Score\",\"reading_score\":\"Average Reading Score\"})"
   ]
  },
  {
   "cell_type": "code",
   "execution_count": 12,
   "metadata": {},
   "outputs": [],
   "source": [
    "school_type_pass_df = school_type_grouped_df[[\"math_score\",\"reading_score\"]].apply(lambda x: ((x>=70).sum()) / x.count() * 100)\n",
    "school_type_pass_df = school_type_pass_df.rename(columns={\"math_score\":\"% Passing Math\",\"reading_score\":\"% Passing Reading\"})"
   ]
  },
  {
   "cell_type": "code",
   "execution_count": 13,
   "metadata": {},
   "outputs": [],
   "source": [
    "charter_pass_perc = count_of_both_passers(retrieve_group(school_type_grouped_df, \"Charter\"),\"Charter\")\n",
    "district_pass_perc = count_of_both_passers(retrieve_group(school_type_grouped_df, \"District\"),\"District\")"
   ]
  },
  {
   "cell_type": "code",
   "execution_count": 14,
   "metadata": {},
   "outputs": [],
   "source": [
    "school_type_overall_pass_df = pd.DataFrame({\"type\": [\"Charter\", \"District\"], \"% Overall Passing\": [charter_pass_perc, district_pass_perc]})"
   ]
  },
  {
   "cell_type": "code",
   "execution_count": 16,
   "metadata": {},
   "outputs": [],
   "source": [
    "school_type_df = pd.merge(school_type_avgs_df, school_type_pass_df, on=\"type\")\n",
    "school_type_df = pd.merge(school_type_df, school_type_overall_pass_df, on=\"type\")\n",
    "\n",
    "school_type_df = school_type_df.rename(columns={\"type\":\"School Type\"})\n",
    "school_type_df = school_type_df.set_index(\"School Type\",drop=True)"
   ]
  },
  {
   "cell_type": "code",
   "execution_count": 17,
   "metadata": {},
   "outputs": [
    {
     "data": {
      "text/html": [
       "<div>\n",
       "<style scoped>\n",
       "    .dataframe tbody tr th:only-of-type {\n",
       "        vertical-align: middle;\n",
       "    }\n",
       "\n",
       "    .dataframe tbody tr th {\n",
       "        vertical-align: top;\n",
       "    }\n",
       "\n",
       "    .dataframe thead th {\n",
       "        text-align: right;\n",
       "    }\n",
       "</style>\n",
       "<table border=\"1\" class=\"dataframe\">\n",
       "  <thead>\n",
       "    <tr style=\"text-align: right;\">\n",
       "      <th></th>\n",
       "      <th>Average Math Score</th>\n",
       "      <th>Average Reading Score</th>\n",
       "      <th>% Passing Math</th>\n",
       "      <th>% Passing Reading</th>\n",
       "      <th>% Overall Passing</th>\n",
       "    </tr>\n",
       "    <tr>\n",
       "      <th>School Type</th>\n",
       "      <th></th>\n",
       "      <th></th>\n",
       "      <th></th>\n",
       "      <th></th>\n",
       "      <th></th>\n",
       "    </tr>\n",
       "  </thead>\n",
       "  <tbody>\n",
       "    <tr>\n",
       "      <th>Charter</th>\n",
       "      <td>83.41</td>\n",
       "      <td>83.90</td>\n",
       "      <td>93.70%</td>\n",
       "      <td>96.65%</td>\n",
       "      <td>90.56%</td>\n",
       "    </tr>\n",
       "    <tr>\n",
       "      <th>District</th>\n",
       "      <td>76.99</td>\n",
       "      <td>80.96</td>\n",
       "      <td>66.52%</td>\n",
       "      <td>80.91%</td>\n",
       "      <td>53.70%</td>\n",
       "    </tr>\n",
       "  </tbody>\n",
       "</table>\n",
       "</div>"
      ],
      "text/plain": [
       "            Average Math Score Average Reading Score % Passing Math  \\\n",
       "School Type                                                           \n",
       "Charter                  83.41                 83.90         93.70%   \n",
       "District                 76.99                 80.96         66.52%   \n",
       "\n",
       "            % Passing Reading % Overall Passing  \n",
       "School Type                                      \n",
       "Charter                96.65%            90.56%  \n",
       "District               80.91%            53.70%  "
      ]
     },
     "execution_count": 17,
     "metadata": {},
     "output_type": "execute_result"
    }
   ],
   "source": [
    "school_type_df[\"Average Math Score\"] = school_type_df[\"Average Math Score\"].map(\"{:.2f}\".format)\n",
    "school_type_df[\"Average Reading Score\"] = school_type_df[\"Average Reading Score\"].map(\"{:.2f}\".format)\n",
    "school_type_df[\"% Passing Math\"] = school_type_df[\"% Passing Math\"].map(\"{:.2f}%\".format)\n",
    "school_type_df[\"% Passing Reading\"] = school_type_df[\"% Passing Reading\"].map(\"{:.2f}%\".format)\n",
    "school_type_df[\"% Overall Passing\"] = school_type_df[\"% Overall Passing\"].map(\"{:.2f}%\".format)\n",
    "school_type_df"
   ]
  },
  {
   "cell_type": "code",
   "execution_count": null,
   "metadata": {},
   "outputs": [],
   "source": []
  }
 ],
 "metadata": {
  "kernelspec": {
   "display_name": "Python 3",
   "language": "python",
   "name": "python3"
  },
  "language_info": {
   "codemirror_mode": {
    "name": "ipython",
    "version": 3
   },
   "file_extension": ".py",
   "mimetype": "text/x-python",
   "name": "python",
   "nbconvert_exporter": "python",
   "pygments_lexer": "ipython3",
   "version": "3.8.5"
  }
 },
 "nbformat": 4,
 "nbformat_minor": 4
}
