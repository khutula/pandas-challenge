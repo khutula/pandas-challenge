{
 "cells": [
  {
   "cell_type": "markdown",
   "metadata": {},
   "source": [
    "# PyCitySchools"
   ]
  },
  {
   "cell_type": "code",
   "execution_count": null,
   "metadata": {},
   "outputs": [],
   "source": [
    "# Dependencies and Setup\n",
    "import pandas as pd\n",
    "\n",
    "# File to Load (Remember to Change These)\n",
    "school_data_to_load = \"Resources/schools_complete.csv\"\n",
    "student_data_to_load = \"Resources/students_complete.csv\"\n",
    "\n",
    "# Read School and Student Data File and store into Pandas DataFrames\n",
    "school_data = pd.read_csv(school_data_to_load)\n",
    "student_data = pd.read_csv(student_data_to_load)\n",
    "\n",
    "# Combine the data into a single dataset.  \n",
    "school_data_complete = pd.merge(student_data, school_data, how=\"left\", on=[\"school_name\", \"school_name\"])"
   ]
  },
  {
   "cell_type": "markdown",
   "metadata": {},
   "source": [
    "### District Summary"
   ]
  },
  {
   "cell_type": "code",
   "execution_count": null,
   "metadata": {},
   "outputs": [],
   "source": [
    "total_schools = len(school_data_complete[\"school_name\"].unique())\n",
    "\n",
    "total_students = len(school_data_complete[\"Student ID\"])"
   ]
  },
  {
   "cell_type": "code",
   "execution_count": null,
   "metadata": {},
   "outputs": [],
   "source": [
    "total_budget = \"${:,.0f}\".format(school_data[\"budget\"].sum())"
   ]
  },
  {
   "cell_type": "code",
   "execution_count": null,
   "metadata": {},
   "outputs": [],
   "source": [
    "avg_math = round(school_data_complete[\"math_score\"].mean(), 2)"
   ]
  },
  {
   "cell_type": "code",
   "execution_count": null,
   "metadata": {},
   "outputs": [],
   "source": [
    "avg_reading = round(school_data_complete[\"reading_score\"].mean(), 2)"
   ]
  },
  {
   "cell_type": "code",
   "execution_count": null,
   "metadata": {},
   "outputs": [],
   "source": [
    "student_scores = school_data_complete[[\"math_score\",\"reading_score\"]]\n",
    "\n",
    "math_pass_count = len(student_scores.loc[(student_scores[\"math_score\"] >= 70), :])\n",
    "reading_pass_count = len(student_scores.loc[(student_scores[\"reading_score\"] >= 70), :])\n",
    "both_pass_count = len(student_scores.loc[(student_scores[\"reading_score\"] >= 70) & (student_scores[\"math_score\"] >= 70), :])\n",
    "\n",
    "math_pass = round((math_pass_count / total_students) * 100, 2)\n",
    "reading_pass = round((reading_pass_count / total_students) * 100, 2)\n",
    "both_pass = round((both_pass_count / total_students) * 100, 2)"
   ]
  },
  {
   "cell_type": "code",
   "execution_count": null,
   "metadata": {},
   "outputs": [],
   "source": [
    "district_dict = [{\"Total Schools\": total_schools, \"Total Students\": total_students,\n",
    "               \"Total Budget\": total_budget, \"Average Math Score\": avg_math, \n",
    "               \"Average Reading Score\": avg_reading, \"% Passing Math\": math_pass, \n",
    "               \"% Passing Reading\": reading_pass, \"% Overall Passing\": both_pass}]\n",
    "district_summary_df = pd.DataFrame(district_dict)\n",
    "district_summary_df"
   ]
  },
  {
   "cell_type": "markdown",
   "metadata": {},
   "source": [
    "### School Summary"
   ]
  },
  {
   "cell_type": "code",
   "execution_count": null,
   "metadata": {},
   "outputs": [],
   "source": [
    "school_calc_df = school_data_complete.groupby([\"school_name\"])\n",
    "school_summary_df = school_data.iloc[:,1:5]\n",
    "school_summary_df = school_summary_df.rename(columns={\"type\":\"School Type\",\"size\":\"Total Students\",\"budget\":\"Total School Budget\"})"
   ]
  },
  {
   "cell_type": "code",
   "execution_count": null,
   "metadata": {},
   "outputs": [],
   "source": [
    "school_summary_df[\"Per Student Budget\"] = school_summary_df[\"Total School Budget\"] / school_summary_df[\"Total Students\"]\n",
    "school_summary_df[\"Per Student Budget\"] = school_summary_df[\"Per Student Budget\"].astype(int)\n",
    "school_summary_df = school_summary_df.sort_values(\"school_name\")"
   ]
  },
  {
   "cell_type": "code",
   "execution_count": null,
   "metadata": {},
   "outputs": [],
   "source": [
    "avg_scores = school_calc_df[[\"math_score\",\"reading_score\"]].mean()\n",
    "\n",
    "avg_scores = avg_scores.rename(columns={\"math_score\":\"Average Math Score\",\"reading_score\":\"Average Reading Score\"})\n",
    "\n",
    "school_summary_df = pd.merge(school_summary_df, avg_scores, how=\"left\", on=\"school_name\")"
   ]
  },
  {
   "cell_type": "code",
   "execution_count": null,
   "metadata": {},
   "outputs": [],
   "source": [
    "pass_avgs = school_calc_df[[\"math_score\",\"reading_score\"]].apply(lambda x: ((x>=70).sum()) / x.count() * 100)\n",
    "pass_avgs = pass_avgs.rename(columns={\"math_score\":\"% Passing Math\",\"reading_score\":\"% Passing Reading\"})\n",
    "school_summary_df = pd.merge(school_summary_df, pass_avgs, how=\"left\", on=\"school_name\")"
   ]
  },
  {
   "cell_type": "code",
   "execution_count": null,
   "metadata": {},
   "outputs": [],
   "source": [
    "both_pass_df = school_data_complete.loc[(school_data_complete[\"math_score\"] >= 70) & (school_data_complete[\"reading_score\"] >= 70), [\"school_name\",\"math_score\",\"reading_score\"]]\n",
    "both_pass_df = both_pass_df.groupby([\"school_name\"])\n",
    "both_pass_count = pd.DataFrame(both_pass_df[\"math_score\"].count())\n",
    "\n",
    "both_pass_count = both_pass_count.rename(columns={\"math_score\":\"# Overall Passing\"})\n",
    "school_summary_df = pd.merge(school_summary_df, both_pass_count, how=\"left\", on=\"school_name\")"
   ]
  },
  {
   "cell_type": "code",
   "execution_count": null,
   "metadata": {},
   "outputs": [],
   "source": [
    "school_summary_df[\"% Overall Passing\"] = school_summary_df[\"# Overall Passing\"] / school_summary_df[\"Total Students\"] * 100"
   ]
  },
  {
   "cell_type": "code",
   "execution_count": null,
   "metadata": {},
   "outputs": [],
   "source": [
    "school_summary_df[\"Total School Budget\"] = school_summary_df[\"Total School Budget\"].map(\"${:,.0f}\".format)\n",
    "school_summary_df[\"Per Student Budget\"] = school_summary_df[\"Per Student Budget\"].map(\"${:,.2f}\".format)\n",
    "school_summary_df[\"Average Math Score\"] = school_summary_df[\"Average Math Score\"].map(\"{:.2f}\".format)\n",
    "school_summary_df[\"Average Reading Score\"] = school_summary_df[\"Average Reading Score\"].map(\"{:.2f}\".format)\n",
    "school_summary_df[\"% Passing Math\"] = school_summary_df[\"% Passing Math\"].map(\"{:.2f}%\".format)\n",
    "school_summary_df[\"% Passing Reading\"] = school_summary_df[\"% Passing Reading\"].map(\"{:.2f}%\".format)\n",
    "school_summary_df[\"% Overall Passing\"] = school_summary_df[\"% Overall Passing\"].map(\"{:.2f}%\".format)"
   ]
  },
  {
   "cell_type": "code",
   "execution_count": null,
   "metadata": {},
   "outputs": [],
   "source": [
    "school_summary_df = school_summary_df.rename(columns={\"school_name\":\"School Name\"})\n",
    "school_summary_df = school_summary_df.drop(\"# Overall Passing\", axis=1)\n",
    "school_summary_df = school_summary_df.set_index(\"School Name\",drop=True)\n",
    "school_summary_df"
   ]
  },
  {
   "cell_type": "markdown",
   "metadata": {},
   "source": [
    "### Top Performing Schools"
   ]
  },
  {
   "cell_type": "code",
   "execution_count": null,
   "metadata": {},
   "outputs": [],
   "source": [
    "top_performing_df = school_summary_df.sort_values(\"% Overall Passing\", ascending = False)\n",
    "top_performing_df.head(5)"
   ]
  },
  {
   "cell_type": "markdown",
   "metadata": {},
   "source": [
    "### Bottom Performing Schools"
   ]
  },
  {
   "cell_type": "code",
   "execution_count": null,
   "metadata": {},
   "outputs": [],
   "source": [
    "bottom_performing_df = school_summary_df.sort_values(\"% Overall Passing\")\n",
    "bottom_performing_df.head(5)"
   ]
  },
  {
   "cell_type": "markdown",
   "metadata": {},
   "source": [
    "### Math Scores by Grade"
   ]
  },
  {
   "cell_type": "code",
   "execution_count": null,
   "metadata": {},
   "outputs": [],
   "source": [
    "math_by_grades_df = school_data_complete.groupby([\"school_name\",\"grade\"])[\"math_score\"].mean().map(\"{:.2f}\".format).unstack().rename_axis(None, axis=1)\n",
    "math_by_grades_df.index.names = [\"School Name\"]\n",
    "math_by_grades_df = math_by_grades_df[[\"9th\",\"10th\",\"11th\",\"12th\"]]\n",
    "math_by_grades_df"
   ]
  },
  {
   "cell_type": "markdown",
   "metadata": {},
   "source": [
    "### Reading Scores by Grade"
   ]
  },
  {
   "cell_type": "code",
   "execution_count": null,
   "metadata": {},
   "outputs": [],
   "source": [
    "reading_by_grades_df = school_data_complete.groupby([\"school_name\",\"grade\"])[\"reading_score\"].mean().map(\"{:.2f}\".format).unstack().rename_axis(None, axis=1)\n",
    "reading_by_grades_df.index.names = [\"School Name\"]\n",
    "reading_by_grades_df = reading_by_grades_df[[\"9th\",\"10th\",\"11th\",\"12th\"]]\n",
    "reading_by_grades_df"
   ]
  },
  {
   "cell_type": "markdown",
   "metadata": {},
   "source": [
    "### Scores by School Spending"
   ]
  },
  {
   "cell_type": "code",
   "execution_count": null,
   "metadata": {},
   "outputs": [],
   "source": []
  },
  {
   "cell_type": "markdown",
   "metadata": {},
   "source": [
    "### Scores by School Size"
   ]
  },
  {
   "cell_type": "code",
   "execution_count": null,
   "metadata": {},
   "outputs": [],
   "source": []
  },
  {
   "cell_type": "markdown",
   "metadata": {},
   "source": [
    "### Scores by School Type"
   ]
  },
  {
   "cell_type": "code",
   "execution_count": null,
   "metadata": {},
   "outputs": [],
   "source": [
    "def retrieve_group(df,group):\n",
    "    group_df = df.get_group(group)\n",
    "    return group_df\n",
    "\n",
    "def count_of_both_passers(df,group):\n",
    "    count_passers = len(df.loc[(df[\"math_score\"]>=70) & (df[\"reading_score\"]>=70),[\"math_score\",\"reading_score\"]])\n",
    "    total_students = df[\"type\"].count()\n",
    "    total_pass_perc = count_passers / total_students * 100\n",
    "    return total_pass_perc"
   ]
  },
  {
   "cell_type": "code",
   "execution_count": null,
   "metadata": {},
   "outputs": [],
   "source": [
    "school_type_grouped_df = school_data_complete.groupby([\"type\"])"
   ]
  },
  {
   "cell_type": "code",
   "execution_count": null,
   "metadata": {},
   "outputs": [],
   "source": [
    "school_type_avgs_df = school_type_grouped_df[[\"math_score\",\"reading_score\"]].mean()"
   ]
  },
  {
   "cell_type": "code",
   "execution_count": null,
   "metadata": {},
   "outputs": [],
   "source": [
    "school_type_pass_counts_df = school_type_grouped_df[[\"math_score\",\"reading_score\"]].apply(lambda x: ((x>=70).sum()) / x.count() * 100)"
   ]
  },
  {
   "cell_type": "code",
   "execution_count": null,
   "metadata": {},
   "outputs": [],
   "source": [
    "charter_pass_perc = count_of_both_passers(retrieve_group(school_type_grouped_df, \"Charter\"),\"Charter\")\n",
    "district_pass_perc = count_of_both_passers(retrieve_group(school_type_grouped_df, \"District\"),\"District\")"
   ]
  },
  {
   "cell_type": "code",
   "execution_count": null,
   "metadata": {},
   "outputs": [],
   "source": [
    "school_type_df = pd.DataFrame({\"School Type\": [\"Charter\", \"District\"], \n",
    "                        \"Average Math Score\": [school_type_avgs_df.loc[\"Charter\",\"math_score\"], school_type_avgs_df.loc[\"District\",\"math_score\"]], \n",
    "                        \"Average Reading Score\": [school_type_avgs_df.loc[\"Charter\",\"reading_score\"], school_type_avgs_df.loc[\"District\",\"reading_score\"]], \n",
    "                        \"% Passing Math\": [school_type_pass_counts_df.loc[\"Charter\",\"math_score\"], school_type_pass_counts_df.loc[\"District\",\"math_score\"]], \n",
    "                        \"% Passing Reading\": [school_type_pass_counts_df.loc[\"Charter\",\"reading_score\"], school_type_pass_counts_df.loc[\"District\",\"reading_score\"]], \n",
    "                        \"% Overall Passing\": [charter_pass_perc, district_pass_perc]\n",
    "                       })\n",
    "\n",
    "school_type_df = school_type_df.set_index(\"School Type\",drop=True)"
   ]
  },
  {
   "cell_type": "code",
   "execution_count": null,
   "metadata": {},
   "outputs": [],
   "source": [
    "school_type_df[\"Average Math Score\"] = school_type_df[\"Average Math Score\"].map(\"{:.2f}\".format)\n",
    "school_type_df[\"Average Reading Score\"] = school_type_df[\"Average Reading Score\"].map(\"{:.2f}\".format)\n",
    "school_type_df[\"% Passing Math\"] = school_type_df[\"% Passing Math\"].map(\"{:.2f}%\".format)\n",
    "school_type_df[\"% Passing Reading\"] = school_type_df[\"% Passing Reading\"].map(\"{:.2f}%\".format)\n",
    "school_type_df[\"% Overall Passing\"] = school_type_df[\"% Overall Passing\"].map(\"{:.2f}%\".format)\n",
    "school_type_df"
   ]
  }
 ],
 "metadata": {
  "kernelspec": {
   "display_name": "Python 3",
   "language": "python",
   "name": "python3"
  },
  "language_info": {
   "codemirror_mode": {
    "name": "ipython",
    "version": 3
   },
   "file_extension": ".py",
   "mimetype": "text/x-python",
   "name": "python",
   "nbconvert_exporter": "python",
   "pygments_lexer": "ipython3",
   "version": "3.8.5"
  }
 },
 "nbformat": 4,
 "nbformat_minor": 4
}
