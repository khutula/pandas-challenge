{
 "cells": [
  {
   "cell_type": "markdown",
   "metadata": {},
   "source": [
    "# PyCitySchools"
   ]
  },
  {
   "cell_type": "code",
   "execution_count": null,
   "metadata": {},
   "outputs": [],
   "source": [
    "# Dependencies and Setup\n",
    "import pandas as pd\n",
    "\n",
    "# File to Load (Remember to Change These)\n",
    "school_data_to_load = \"Resources/schools_complete.csv\"\n",
    "student_data_to_load = \"Resources/students_complete.csv\"\n",
    "\n",
    "# Read School and Student Data File and store into Pandas DataFrames\n",
    "school_data = pd.read_csv(school_data_to_load)\n",
    "student_data = pd.read_csv(student_data_to_load)\n",
    "\n",
    "# Combine the data into a single dataset.  \n",
    "school_data_complete = pd.merge(student_data, school_data, how=\"left\", on=[\"school_name\", \"school_name\"])"
   ]
  },
  {
   "cell_type": "markdown",
   "metadata": {},
   "source": [
    "### District Summary"
   ]
  },
  {
   "cell_type": "code",
   "execution_count": null,
   "metadata": {},
   "outputs": [],
   "source": [
    "total_schools = len(school_data_complete[\"school_name\"].unique())\n",
    "\n",
    "total_students = len(school_data_complete[\"Student ID\"])"
   ]
  },
  {
   "cell_type": "code",
   "execution_count": null,
   "metadata": {},
   "outputs": [],
   "source": [
    "total_budget = school_data[\"budget\"].sum()"
   ]
  },
  {
   "cell_type": "code",
   "execution_count": null,
   "metadata": {},
   "outputs": [],
   "source": [
    "avg_math = school_data_complete[\"math_score\"].mean()"
   ]
  },
  {
   "cell_type": "code",
   "execution_count": null,
   "metadata": {},
   "outputs": [],
   "source": [
    "avg_reading = school_data_complete[\"reading_score\"].mean()"
   ]
  },
  {
   "cell_type": "code",
   "execution_count": null,
   "metadata": {},
   "outputs": [],
   "source": [
    "student_scores = school_data_complete[[\"math_score\",\"reading_score\"]]\n",
    "\n",
    "math_pass_count = len(student_scores.loc[(student_scores[\"math_score\"] >= 70), :])\n",
    "reading_pass_count = len(student_scores.loc[(student_scores[\"reading_score\"] >= 70), :])\n",
    "both_pass_count = len(student_scores.loc[(student_scores[\"reading_score\"] >= 70) & (student_scores[\"math_score\"] >= 70), :])\n",
    "\n",
    "math_pass = (math_pass_count / total_students) * 100\n",
    "reading_pass = (reading_pass_count / total_students) * 100\n",
    "both_pass = (both_pass_count / total_students) * 100"
   ]
  },
  {
   "cell_type": "code",
   "execution_count": null,
   "metadata": {},
   "outputs": [],
   "source": [
    "district_dict = [{\"Total Schools\": total_schools, \"Total Students\": total_students,\n",
    "               \"Total Budget\": total_budget, \"Average Math Score\": avg_math, \n",
    "               \"Average Reading Score\": avg_reading, \"% Passing Math\": math_pass, \n",
    "               \"% Passing Reading\": reading_pass, \"% Overall Passing\": both_pass}]\n",
    "district_summary_df = pd.DataFrame(district_dict)\n",
    "district_summary_df"
   ]
  },
  {
   "cell_type": "markdown",
   "metadata": {},
   "source": [
    "### School Summary"
   ]
  },
  {
   "cell_type": "code",
   "execution_count": null,
   "metadata": {},
   "outputs": [],
   "source": [
    "school_calc_df = school_data_complete.groupby([\"school_name\"])\n",
    "school_summary_df = school_data.iloc[:,1:5]\n",
    "school_summary_df = school_summary_df.rename(columns={\"type\":\"School Type\",\"size\":\"Total Students\",\"budget\":\"Total School Budget\"})"
   ]
  },
  {
   "cell_type": "code",
   "execution_count": null,
   "metadata": {},
   "outputs": [],
   "source": [
    "school_summary_df[\"Per Student Budget\"] = school_summary_df[\"Total School Budget\"] / school_summary_df[\"Total Students\"]\n",
    "school_summary_df[\"Per Student Budget\"] = school_summary_df[\"Per Student Budget\"].astype(int)\n",
    "school_summary_df = school_summary_df.sort_values(\"school_name\")"
   ]
  },
  {
   "cell_type": "code",
   "execution_count": null,
   "metadata": {},
   "outputs": [],
   "source": [
    "avg_scores = school_calc_df[[\"math_score\",\"reading_score\"]].mean()\n",
    "\n",
    "avg_scores = avg_scores.rename(columns={\"math_score\":\"Average Math Score\",\"reading_score\":\"Average Reading Score\"})\n",
    "\n",
    "school_summary_df = pd.merge(school_summary_df, avg_scores, how=\"left\", on=\"school_name\")"
   ]
  },
  {
   "cell_type": "code",
   "execution_count": null,
   "metadata": {},
   "outputs": [],
   "source": [
    "pass_avgs = school_calc_df[[\"math_score\",\"reading_score\"]].apply(lambda x: ((x>=70).sum()) / x.count() * 100)\n",
    "pass_avgs = pass_avgs.rename(columns={\"math_score\":\"% Passing Math\",\"reading_score\":\"% Passing Reading\"})\n",
    "school_summary_df = pd.merge(school_summary_df, pass_avgs, how=\"left\", on=\"school_name\")"
   ]
  },
  {
   "cell_type": "code",
   "execution_count": null,
   "metadata": {},
   "outputs": [],
   "source": [
    "both_pass_count = school_data_complete.loc[(school_data_complete[\"math_score\"] >= 70) & (school_data_complete[\"reading_score\"] >= 70), [\"school_name\",\"math_score\",\"reading_score\"]]\n",
    "both_pass_count = both_pass_count.groupby([\"school_name\"])\n",
    "both_pass_perc = pd.DataFrame(both_pass_count[\"math_score\"].count())\n",
    "\n",
    "\n",
    "both_pass_perc = both_pass_perc.rename(columns={\"math_score\":\"# Overall Passing\"})\n",
    "school_summary_df = pd.merge(school_summary_df, both_pass_perc, how=\"left\", on=\"school_name\")"
   ]
  },
  {
   "cell_type": "code",
   "execution_count": null,
   "metadata": {},
   "outputs": [],
   "source": [
    "school_summary_df[\"% Overall Passing\"] = school_summary_df[\"# Overall Passing\"] / school_summary_df[\"Total Students\"] * 100"
   ]
  },
  {
   "cell_type": "code",
   "execution_count": null,
   "metadata": {},
   "outputs": [],
   "source": [
    "school_summary_df = school_summary_df.rename(columns={\"school_name\":\"School Name\"})\n",
    "school_summary_df = school_summary_df.drop(\"# Overall Passing\", axis=1)\n",
    "school_summary_df = school_summary_df.set_index(\"School Name\",drop=True)\n",
    "school_summary_df"
   ]
  },
  {
   "cell_type": "markdown",
   "metadata": {},
   "source": [
    "### Top Performing Schools"
   ]
  },
  {
   "cell_type": "code",
   "execution_count": null,
   "metadata": {},
   "outputs": [],
   "source": [
    "top_performing_df = school_summary_df.sort_values(\"% Overall Passing\", ascending = False)\n",
    "top_performing_df.head(5)"
   ]
  },
  {
   "cell_type": "markdown",
   "metadata": {},
   "source": [
    "### Bottom Performing Schools"
   ]
  },
  {
   "cell_type": "code",
   "execution_count": null,
   "metadata": {},
   "outputs": [],
   "source": [
    "bottom_performing_df = school_summary_df.sort_values(\"% Overall Passing\")\n",
    "bottom_performing_df.head(5)"
   ]
  },
  {
   "cell_type": "markdown",
   "metadata": {},
   "source": [
    "### Math Scores by Grade"
   ]
  },
  {
   "cell_type": "code",
   "execution_count": null,
   "metadata": {},
   "outputs": [],
   "source": [
    "scores_9th_df = school_data_complete.loc[school_data_complete[\"grade\"] == \"9th\", :]\n",
    "scores_10th_df = school_data_complete.loc[school_data_complete[\"grade\"] == \"10th\", :]\n",
    "scores_11th_df = school_data_complete.loc[school_data_complete[\"grade\"] == \"11th\", :]\n",
    "scores_12th_df = school_data_complete.loc[school_data_complete[\"grade\"] == \"12th\", :]"
   ]
  },
  {
   "cell_type": "code",
   "execution_count": null,
   "metadata": {},
   "outputs": [],
   "source": [
    "math_9th = scores_9th_df.groupby([\"school_name\"])[\"math_score\"].mean()\n",
    "math_10th = scores_10th_df.groupby([\"school_name\"])[\"math_score\"].mean()\n",
    "math_11th = scores_11th_df.groupby([\"school_name\"])[\"math_score\"].mean()\n",
    "math_12th = scores_12th_df.groupby([\"school_name\"])[\"math_score\"].mean()"
   ]
  },
  {
   "cell_type": "code",
   "execution_count": null,
   "metadata": {},
   "outputs": [],
   "source": [
    "math_by_grades_df = pd.DataFrame({\"9th\": math_9th, \"10th\": math_10th, \"11th\": math_11th, \"12th\": math_12th})\n",
    "math_by_grades_df.index.names = [\"School Name\"]\n",
    "math_by_grades_df"
   ]
  },
  {
   "cell_type": "markdown",
   "metadata": {},
   "source": [
    "### Reading Scores by Grade"
   ]
  },
  {
   "cell_type": "code",
   "execution_count": null,
   "metadata": {},
   "outputs": [],
   "source": [
    "reading_9th = scores_9th_df.groupby([\"school_name\"])[\"reading_score\"].mean()\n",
    "reading_10th = scores_10th_df.groupby([\"school_name\"])[\"reading_score\"].mean()\n",
    "reading_11th = scores_11th_df.groupby([\"school_name\"])[\"reading_score\"].mean()\n",
    "reading_12th = scores_12th_df.groupby([\"school_name\"])[\"reading_score\"].mean()"
   ]
  },
  {
   "cell_type": "code",
   "execution_count": null,
   "metadata": {},
   "outputs": [],
   "source": [
    "reading_by_grades_df = pd.DataFrame({\"9th\": reading_9th, \"10th\": reading_10th, \"11th\": reading_11th, \"12th\": reading_12th})\n",
    "reading_by_grades_df.index.names = [\"School Name\"]\n",
    "reading_by_grades_df"
   ]
  },
  {
   "cell_type": "markdown",
   "metadata": {},
   "source": [
    "### Scores by School Spending"
   ]
  },
  {
   "cell_type": "code",
   "execution_count": null,
   "metadata": {},
   "outputs": [],
   "source": []
  },
  {
   "cell_type": "markdown",
   "metadata": {},
   "source": [
    "### Scores by School Size"
   ]
  },
  {
   "cell_type": "code",
   "execution_count": null,
   "metadata": {},
   "outputs": [],
   "source": []
  },
  {
   "cell_type": "markdown",
   "metadata": {},
   "source": [
    "### Scores by School Type"
   ]
  },
  {
   "cell_type": "code",
   "execution_count": null,
   "metadata": {},
   "outputs": [],
   "source": [
    "charter_df = school_data_complete.loc[school_data_complete[\"type\"] == \"Charter\", :]\n",
    "district_df = school_data_complete.loc[school_data_complete[\"type\"] == \"District\", :]"
   ]
  },
  {
   "cell_type": "code",
   "execution_count": null,
   "metadata": {},
   "outputs": [],
   "source": [
    "charter_math_avg = charter_df[\"math_score\"].mean()\n",
    "charter_reading_avg = charter_df[\"reading_score\"].mean()\n",
    "district_math_avg = district_df[\"math_score\"].mean()\n",
    "district_reading_avg = district_df[\"reading_score\"].mean()"
   ]
  },
  {
   "cell_type": "code",
   "execution_count": null,
   "metadata": {},
   "outputs": [],
   "source": [
    "charter_math_pass = len(charter_df.loc[charter_df[\"math_score\"] >= 70, :]) / len(charter_df) * 100\n",
    "\n",
    "district_math_pass = len(district_df.loc[district_df[\"math_score\"] >= 70, :]) / len(district_df) * 100"
   ]
  },
  {
   "cell_type": "code",
   "execution_count": null,
   "metadata": {},
   "outputs": [],
   "source": [
    "charter_reading_pass = len(charter_df.loc[charter_df[\"reading_score\"] >= 70, :]) / len(charter_df) * 100\n",
    "\n",
    "district_reading_pass = len(district_df.loc[district_df[\"reading_score\"] >= 70, :]) / len(district_df) * 100"
   ]
  },
  {
   "cell_type": "code",
   "execution_count": null,
   "metadata": {},
   "outputs": [],
   "source": [
    "charter_both_pass = len(charter_df.loc[(charter_df[\"math_score\"] >= 70) & (charter_df[\"reading_score\"] >= 70), :]) / len(charter_df) * 100\n",
    "\n",
    "district_both_pass = len(district_df.loc[(district_df[\"math_score\"] >= 70) & (district_df[\"reading_score\"] >= 70), :]) / len(district_df) * 100"
   ]
  },
  {
   "cell_type": "code",
   "execution_count": null,
   "metadata": {},
   "outputs": [],
   "source": [
    "school_type_df = pd.DataFrame({\"School Type\": [\"Charter\", \"District\"], \n",
    "                        \"Average Math Score\": [charter_math_avg, district_math_avg], \n",
    "                        \"Average Reading Score\": [charter_reading_avg, district_reading_avg], \n",
    "                        \"% Passing Math\": [charter_math_pass, district_math_pass], \n",
    "                        \"% Passing Reading\": [charter_reading_pass, district_reading_pass], \n",
    "                        \"% Overall Passing\": [charter_both_pass, district_both_pass]\n",
    "                       })\n",
    "\n",
    "school_type_df = school_type_df.set_index(\"School Type\",drop=True)\n",
    "school_type_df"
   ]
  }
 ],
 "metadata": {
  "kernelspec": {
   "display_name": "Python 3",
   "language": "python",
   "name": "python3"
  },
  "language_info": {
   "codemirror_mode": {
    "name": "ipython",
    "version": 3
   },
   "file_extension": ".py",
   "mimetype": "text/x-python",
   "name": "python",
   "nbconvert_exporter": "python",
   "pygments_lexer": "ipython3",
   "version": "3.8.5"
  }
 },
 "nbformat": 4,
 "nbformat_minor": 4
}
